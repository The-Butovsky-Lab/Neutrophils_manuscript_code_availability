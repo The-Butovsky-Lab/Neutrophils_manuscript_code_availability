{
 "cells": [
  {
   "cell_type": "code",
   "execution_count": 4,
   "id": "8a0c3644",
   "metadata": {},
   "outputs": [],
   "source": [
    "#loading packages:\n",
    "import pandas as pd\n",
    "import numpy as np\n",
    "from matplotlib import colors\n",
    "import matplotlib.pyplot as plt\n",
    "import matplotlib.ticker as mtick\n",
    "import seaborn as sns"
   ]
  },
  {
   "cell_type": "code",
   "execution_count": 5,
   "id": "cea72288",
   "metadata": {},
   "outputs": [],
   "source": [
    "from sklearn import preprocessing\n",
    "from sklearn.feature_selection import SelectKBest, f_classif, mutual_info_classif, SelectFromModel\n",
    "from sklearn.preprocessing import StandardScaler, LabelEncoder, MinMaxScaler"
   ]
  },
  {
   "cell_type": "code",
   "execution_count": 6,
   "id": "1b6bb984",
   "metadata": {},
   "outputs": [],
   "source": [
    "import sklearn.metrics as metrics\n",
    "from sklearn.metrics import ConfusionMatrixDisplay, RocCurveDisplay\n",
    "from sklearn.model_selection import train_test_split, KFold, cross_val_score, RepeatedStratifiedKFold,StratifiedKFold, cross_validate, RandomizedSearchCV\n",
    "from sklearn.tree import DecisionTreeClassifier\n",
    "from sklearn.ensemble import GradientBoostingClassifier, RandomForestClassifier\n",
    "from sklearn.svm import SVC\n",
    "from sklearn.linear_model import SGDClassifier, Ridge\n",
    "from sklearn.neighbors import KNeighborsClassifier\n",
    "from sklearn.naive_bayes import GaussianNB, ComplementNB\n",
    "from imblearn.over_sampling import SMOTE"
   ]
  },
  {
   "cell_type": "code",
   "execution_count": 24,
   "id": "05e8a54f",
   "metadata": {},
   "outputs": [],
   "source": [
    "#Read in document\n",
    "df = pd.read_excel('/prediction_data.xlsx',sheet_name = 'MCI_AD_vs_Ctrl')"
   ]
  },
  {
   "cell_type": "code",
   "execution_count": 27,
   "id": "9a1a0c5a",
   "metadata": {},
   "outputs": [],
   "source": [
    "#Preparing variables for prediction\n",
    "X = df.drop(['Clinical','Well'], axis=1)\n",
    "y = df['Clinical']\n"
   ]
  },
  {
   "cell_type": "code",
   "execution_count": 29,
   "id": "31899cd9",
   "metadata": {},
   "outputs": [],
   "source": [
    "#Scaling and normalizing predictors\n",
    "scaler = StandardScaler()\n",
    "scaler.fit(X)\n",
    "X_scaled = scaler.transform(X)\n",
    "X =pd.DataFrame(X_scaled, columns=X.columns)\n",
    "X.head()\n",
    "min_max_scaler = preprocessing.MinMaxScaler()\n",
    "X_minmax = min_max_scaler.fit_transform(X)\n",
    "X_train, X_test, y_train, y_test=train_test_split(X_minmax, y,test_size=0.25,random_state=42, stratify = y)\n"
   ]
  },
  {
   "cell_type": "code",
   "execution_count": 57,
   "id": "72b7ff18",
   "metadata": {},
   "outputs": [
    {
     "data": {
      "image/png": "[encoded data removed]",
      "text/plain": [
       "<Figure size 432x288 with 1 Axes>"
      ]
     },
     "metadata": {
      "needs_background": "light"
     },
     "output_type": "display_data"
    }
   ],
   "source": [
    "# Get most important indices by sorting\n",
    "indices = np.argsort(selector.scores_)[::-1]\n",
    "\n",
    "# Get top 15 feature names\n",
    "features = []\n",
    "for i in range(15):\n",
    "    features.append(df.columns[indices[i]])\n",
    "\n",
    "# Now plot\n",
    "plt.figure()\n",
    "plt.bar(features, selector.scores_[indices[range(10)]], color='Mediumturquoise', align='center')\n",
    "plt.xticks(rotation=90)\n",
    "plt.ylabel('Feature Importance Score')\n",
    "plt.gcf().subplots_adjust(bottom=0.3)\n",
    "plt.savefig('Feature_importance_AD_MCI_vs_CTRL.pdf')\n",
    "plt.show()\n"
   ]
  },
  {
   "cell_type": "code",
   "execution_count": 36,
   "id": "61495fb6",
   "metadata": {},
   "outputs": [
    {
     "data": {
      "text/html": [
       "<style  type=\"text/css\" >\n",
       "#T_a23d38f4_fb49_11ed_a012_1e80681ed531row0_col1{\n",
       "            background-color:  #370499;\n",
       "            color:  #f1f1f1;\n",
       "        }#T_a23d38f4_fb49_11ed_a012_1e80681ed531row0_col2,#T_a23d38f4_fb49_11ed_a012_1e80681ed531row0_col3,#T_a23d38f4_fb49_11ed_a012_1e80681ed531row2_col1{\n",
       "            background-color:  #0d0887;\n",
       "            color:  #f1f1f1;\n",
       "        }#T_a23d38f4_fb49_11ed_a012_1e80681ed531row1_col1{\n",
       "            background-color:  #c5407e;\n",
       "            color:  #f1f1f1;\n",
       "        }#T_a23d38f4_fb49_11ed_a012_1e80681ed531row1_col2{\n",
       "            background-color:  #ca457a;\n",
       "            color:  #f1f1f1;\n",
       "        }#T_a23d38f4_fb49_11ed_a012_1e80681ed531row1_col3,#T_a23d38f4_fb49_11ed_a012_1e80681ed531row3_col1{\n",
       "            background-color:  #cc4778;\n",
       "            color:  #f1f1f1;\n",
       "        }#T_a23d38f4_fb49_11ed_a012_1e80681ed531row2_col2{\n",
       "            background-color:  #240691;\n",
       "            color:  #f1f1f1;\n",
       "        }#T_a23d38f4_fb49_11ed_a012_1e80681ed531row2_col3{\n",
       "            background-color:  #44039e;\n",
       "            color:  #f1f1f1;\n",
       "        }#T_a23d38f4_fb49_11ed_a012_1e80681ed531row3_col2{\n",
       "            background-color:  #cb4679;\n",
       "            color:  #f1f1f1;\n",
       "        }#T_a23d38f4_fb49_11ed_a012_1e80681ed531row3_col3{\n",
       "            background-color:  #9814a0;\n",
       "            color:  #f1f1f1;\n",
       "        }</style><table id=\"T_a23d38f4_fb49_11ed_a012_1e80681ed531\" ><thead>    <tr>        <th class=\"blank level0\" ></th>        <th class=\"col_heading level0 col0\" >Model</th>        <th class=\"col_heading level0 col1\" >Accuracy</th>        <th class=\"col_heading level0 col2\" >Precision</th>        <th class=\"col_heading level0 col3\" >Recall</th>    </tr></thead><tbody>\n",
       "                <tr>\n",
       "                        <th id=\"T_a23d38f4_fb49_11ed_a012_1e80681ed531level0_row0\" class=\"row_heading level0 row0\" >0</th>\n",
       "                        <td id=\"T_a23d38f4_fb49_11ed_a012_1e80681ed531row0_col0\" class=\"data row0 col0\" >DecisionTreeClassifier</td>\n",
       "                        <td id=\"T_a23d38f4_fb49_11ed_a012_1e80681ed531row0_col1\" class=\"data row0 col1\" >0.585714</td>\n",
       "                        <td id=\"T_a23d38f4_fb49_11ed_a012_1e80681ed531row0_col2\" class=\"data row0 col2\" >0.513333</td>\n",
       "                        <td id=\"T_a23d38f4_fb49_11ed_a012_1e80681ed531row0_col3\" class=\"data row0 col3\" >0.514286</td>\n",
       "            </tr>\n",
       "            <tr>\n",
       "                        <th id=\"T_a23d38f4_fb49_11ed_a012_1e80681ed531level0_row1\" class=\"row_heading level0 row1\" >1</th>\n",
       "                        <td id=\"T_a23d38f4_fb49_11ed_a012_1e80681ed531row1_col0\" class=\"data row1 col0\" >RandomForestClassifier</td>\n",
       "                        <td id=\"T_a23d38f4_fb49_11ed_a012_1e80681ed531row1_col1\" class=\"data row1 col1\" >0.814286</td>\n",
       "                        <td id=\"T_a23d38f4_fb49_11ed_a012_1e80681ed531row1_col2\" class=\"data row1 col2\" >0.946429</td>\n",
       "                        <td id=\"T_a23d38f4_fb49_11ed_a012_1e80681ed531row1_col3\" class=\"data row1 col3\" >0.914286</td>\n",
       "            </tr>\n",
       "            <tr>\n",
       "                        <th id=\"T_a23d38f4_fb49_11ed_a012_1e80681ed531level0_row2\" class=\"row_heading level0 row2\" >2</th>\n",
       "                        <td id=\"T_a23d38f4_fb49_11ed_a012_1e80681ed531row2_col0\" class=\"data row2 col0\" >GradientBoostingClassifier</td>\n",
       "                        <td id=\"T_a23d38f4_fb49_11ed_a012_1e80681ed531row2_col1\" class=\"data row2 col1\" >0.542857</td>\n",
       "                        <td id=\"T_a23d38f4_fb49_11ed_a012_1e80681ed531row2_col2\" class=\"data row2 col2\" >0.545397</td>\n",
       "                        <td id=\"T_a23d38f4_fb49_11ed_a012_1e80681ed531row2_col3\" class=\"data row2 col3\" >0.600000</td>\n",
       "            </tr>\n",
       "            <tr>\n",
       "                        <th id=\"T_a23d38f4_fb49_11ed_a012_1e80681ed531level0_row3\" class=\"row_heading level0 row3\" >3</th>\n",
       "                        <td id=\"T_a23d38f4_fb49_11ed_a012_1e80681ed531row3_col0\" class=\"data row3 col0\" >SGDClassifier</td>\n",
       "                        <td id=\"T_a23d38f4_fb49_11ed_a012_1e80681ed531row3_col1\" class=\"data row3 col1\" >0.828571</td>\n",
       "                        <td id=\"T_a23d38f4_fb49_11ed_a012_1e80681ed531row3_col2\" class=\"data row3 col2\" >0.950000</td>\n",
       "                        <td id=\"T_a23d38f4_fb49_11ed_a012_1e80681ed531row3_col3\" class=\"data row3 col3\" >0.771429</td>\n",
       "            </tr>\n",
       "    </tbody></table>"
      ],
      "text/plain": [
       "<pandas.io.formats.style.Styler at 0x7faf09593fd0>"
      ]
     },
     "execution_count": 36,
     "metadata": {},
     "output_type": "execute_result"
    }
   ],
   "source": [
    "#Testing models with all features\n",
    "all_model = [ DecisionTreeClassifier(),\n",
    "            RandomForestClassifier(),  GradientBoostingClassifier(), \n",
    "             SGDClassifier()]\n",
    "#,'GaussianNB', 'ComplementNB',GaussianNB(), ComplementNB() SVC(),'SVC',\n",
    "#Quality measure\n",
    "recall = []\n",
    "accuracy = []\n",
    "precision = []\n",
    "\n",
    "for model in all_model:\n",
    "    cv = cross_val_score(model, X_train, y_train, scoring='recall', cv=5).mean()\n",
    "    recall.append(cv)\n",
    "\n",
    "    cv = cross_val_score(model, X_train, y_train, scoring='accuracy', cv=5).mean()\n",
    "    accuracy.append(cv)\n",
    "\n",
    "    cv = cross_val_score(model, X_train, y_train, scoring='precision', cv=5).mean()\n",
    "    precision.append(cv)\n",
    "\n",
    "model = [ 'DecisionTreeClassifier',\n",
    "         'RandomForestClassifier', 'GradientBoostingClassifier',\n",
    "         'SGDClassifier']\n",
    "\n",
    "score = pd.DataFrame({'Model': model, 'Accuracy': accuracy, 'Precision': precision, 'Recall': recall})\n",
    "score.style.background_gradient(high=1,axis=0, cmap=plt.cm.plasma)"
   ]
  },
  {
   "cell_type": "code",
   "execution_count": 49,
   "id": "96ba49f6",
   "metadata": {},
   "outputs": [],
   "source": [
    "##### -- RANDOM FOREST CLASSIFIER -- #####\n",
    "rfc = RandomForestClassifier()\n",
    "rfc.fit(X_train, y_train)\n",
    "y_pred = rfc.predict(X_test)\n",
    "y_pred_proba = rfc.predict_proba(X_test)\n"
   ]
  },
  {
   "cell_type": "code",
   "execution_count": 50,
   "id": "efa008fa",
   "metadata": {},
   "outputs": [
    {
     "name": "stdout",
     "output_type": "stream",
     "text": [
      "Confusion matrix, without normalization\n",
      "[[ 8  4]\n",
      " [ 1 11]]\n",
      "Normalized confusion matrix\n",
      "[[ 8  4]\n",
      " [ 1 11]]\n"
     ]
    },
    {
     "data": {
      "image/png": "[encoded data removed]",
      "text/plain": [
       "<Figure size 432x288 with 2 Axes>"
      ]
     },
     "metadata": {
      "needs_background": "light"
     },
     "output_type": "display_data"
    },
    {
     "data": {
      "image/png": "[encoded data removed]",
      "text/plain": [
       "<Figure size 432x288 with 2 Axes>"
      ]
     },
     "metadata": {
      "needs_background": "light"
     },
     "output_type": "display_data"
    }
   ],
   "source": [
    "titles_options = [\n",
    "    (\"Confusion matrix, without normalization\", None),\n",
    "    (\"Normalized confusion matrix\", \"true\"),\n",
    "]\n",
    "for title, normalize in titles_options:\n",
    "    disp = ConfusionMatrixDisplay.from_estimator(\n",
    "        rfc,\n",
    "        X_test,\n",
    "        y_test,\n",
    "        cmap=plt.cm.BuPu,\n",
    "        #normalize=normalize,\n",
    "    )\n",
    "    disp.ax_.set_title(title)\n",
    "\n",
    "    print(title)\n",
    "    print(disp.confusion_matrix)\n",
    "plt.savefig('Confusion_matrix_MCI_AD_vs_Ctrl.pdf')\n",
    "plt.show()"
   ]
  },
  {
   "cell_type": "code",
   "execution_count": 39,
   "id": "939bb234",
   "metadata": {},
   "outputs": [
    {
     "data": {
      "image/png": "[encoded data removed]",
      "text/plain": [
       "<Figure size 432x288 with 1 Axes>"
      ]
     },
     "metadata": {
      "needs_background": "light"
     },
     "output_type": "display_data"
    }
   ],
   "source": [
    "#Vizualize AUC\n",
    "ROC_rfc = RocCurveDisplay.from_estimator(rfc, X_test, y_test)\n",
    "_ = ROC_rfc.ax_.set_title(\"AUC\")\n",
    "plt.savefig('AUC_MCI_AD_vs_CTRL.pdf')\n",
    "plt.show()"
   ]
  }
 ],
 "metadata": {
  "interpreter": {
   "hash": "aee8b7b246df8f9039afb4144a1f6fd8d2ca17a180786b69acc140d282b71a49"
  },
  "kernelspec": {
   "display_name": "Python 3 (ipykernel)",
   "language": "python",
   "name": "python3"
  },
  "language_info": {
   "codemirror_mode": {
    "name": "ipython",
    "version": 3
   },
   "file_extension": ".py",
   "mimetype": "text/x-python",
   "name": "python",
   "nbconvert_exporter": "python",
   "pygments_lexer": "ipython3",
   "version": "3.8.8"
  }
 },
 "nbformat": 4,
 "nbformat_minor": 5
}
